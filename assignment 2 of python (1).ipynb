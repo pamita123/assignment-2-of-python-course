{
 "cells": [
  {
   "cell_type": "markdown",
   "metadata": {},
   "source": [
    "# task1\n"
   ]
  },
  {
   "cell_type": "code",
   "execution_count": 1,
   "metadata": {},
   "outputs": [
    {
     "data": {
      "text/plain": [
       "16"
      ]
     },
     "execution_count": 1,
     "metadata": {},
     "output_type": "execute_result"
    }
   ],
   "source": [
    "#1.1 Write a Python Program to implement your own myreduce() function which works exactly \n",
    "#like python built-in function\n",
    "def my_reduce(function, series):\n",
    "    \n",
    "    output = series[0]\n",
    "    for i in series[1:]:\n",
    "        output = function(output,i)\n",
    "        \n",
    "    return output\n",
    "    \n",
    "def sum(a,b):\n",
    "    return a+b\n",
    "list = [1,3,5,7]\n",
    "my_reduce(sum, list)"
   ]
  },
  {
   "cell_type": "code",
   "execution_count": 2,
   "metadata": {},
   "outputs": [
    {
     "data": {
      "text/plain": [
       "[34, 46]"
      ]
     },
     "execution_count": 2,
     "metadata": {},
     "output_type": "execute_result"
    }
   ],
   "source": [
    "#1.2 Write a Python program to implement your own myfilter() function which works exactly \n",
    "#ike Python's built-in function filter()\n",
    "\n",
    "def my_filter(function, series):\n",
    "    \n",
    "    output = []\n",
    "    for i in series:\n",
    "        if function(i):\n",
    "            output.append(i)\n",
    "    return output\n",
    "\n",
    "def remainder(x):\n",
    "    if (x%2 == 0):\n",
    "        return True\n",
    "    else:\n",
    "        return False\n",
    "    \n",
    "list = [34,46,87,41]\n",
    "my_filter(remainder,list)"
   ]
  },
  {
   "cell_type": "code",
   "execution_count": 3,
   "metadata": {},
   "outputs": [
    {
     "data": {
      "text/plain": [
       "['x', 'xx', 'xxx', 'xxxx', 'y', 'yy', 'yyy', 'yyyy', 'z', 'zz', 'zzz', 'zzzz']"
      ]
     },
     "execution_count": 3,
     "metadata": {},
     "output_type": "execute_result"
    }
   ],
   "source": [
    "#2. Implement List comprehensions to produce the following lists. \n",
    "#Write List comprehensions to produce the following Lists\n",
    "\n",
    "list = ['x','y','z']\n",
    "output = [i*num for i in list for num in range(1,5)]\n",
    "output"
   ]
  },
  {
   "cell_type": "code",
   "execution_count": 4,
   "metadata": {},
   "outputs": [
    {
     "data": {
      "text/plain": [
       "['x', 'y', 'z', 'xx', 'yy', 'zz', 'xxx', 'yyy', 'zzz', 'xxxx', 'yyyy', 'zzzz']"
      ]
     },
     "execution_count": 4,
     "metadata": {},
     "output_type": "execute_result"
    }
   ],
   "source": [
    "list = ['x','y','z']\n",
    "output = [i*num for num in range(1,5) for i in list]\n",
    "output"
   ]
  },
  {
   "cell_type": "code",
   "execution_count": 5,
   "metadata": {},
   "outputs": [
    {
     "data": {
      "text/plain": [
       "[[2], [3], [4], [3], [4], [5], [4], [5], [6]]"
      ]
     },
     "execution_count": 5,
     "metadata": {},
     "output_type": "execute_result"
    }
   ],
   "source": [
    "list = [2,3,4]\n",
    "output = [[i+num] for i in list for num in range(0,3)]\n",
    "output"
   ]
  },
  {
   "cell_type": "code",
   "execution_count": 6,
   "metadata": {},
   "outputs": [
    {
     "data": {
      "text/plain": [
       "[[2, 3, 4, 5], [3, 4, 5, 6], [4, 5, 6, 7], [5, 6, 7, 8]]"
      ]
     },
     "execution_count": 6,
     "metadata": {},
     "output_type": "execute_result"
    }
   ],
   "source": [
    "list = [2,3,4,5]\n",
    "output = [[i+num for i in list] for num in range(0,4)]\n",
    "output"
   ]
  },
  {
   "cell_type": "code",
   "execution_count": 8,
   "metadata": {},
   "outputs": [
    {
     "data": {
      "text/plain": [
       "[(1, 1), (2, 1), (3, 1), (1, 2), (2, 2), (3, 2), (1, 3), (2, 3), (3, 3)]"
      ]
     },
     "execution_count": 8,
     "metadata": {},
     "output_type": "execute_result"
    }
   ],
   "source": [
    "list=[1,2,3]\n",
    "output = [(y,x) for x in list for y in list]\n",
    "output"
   ]
  },
  {
   "cell_type": "markdown",
   "metadata": {},
   "source": [
    "# task2"
   ]
  },
  {
   "cell_type": "code",
   "execution_count": 1,
   "metadata": {},
   "outputs": [
    {
     "name": "stdout",
     "output_type": "stream",
     "text": [
      "Enter the value of the first side = 5\n",
      "Enter the value of the second side = 6\n",
      "Enter the value of the third side = 7\n",
      "14.696938456699069\n"
     ]
    }
   ],
   "source": [
    "#1.1\n",
    "class user_input:\n",
    "    \n",
    "    def __init__(self,a,b,c):\n",
    "        self.a = float(input(\"Enter the value of the first side = \"))\n",
    "        self.b = float(input(\"Enter the value of the second side = \"))\n",
    "        self.c = float(input(\"Enter the value of the third side = \"))\n",
    "        \n",
    "class area_calc(user_input):\n",
    "    \n",
    "    def area(self):\n",
    "        s=(self.a + self.b + self.c)/2\n",
    "        return((s*(s-self.a)*(s-self.b)*(s-self.c))**0.5)\n",
    "    \n",
    "triangle = area_calc(10,15,20)\n",
    "print(triangle.area())"
   ]
  },
  {
   "cell_type": "code",
   "execution_count": 3,
   "metadata": {},
   "outputs": [
    {
     "name": "stdout",
     "output_type": "stream",
     "text": [
      "4\n",
      "my name is pamita singh kandari\n",
      "['pamita', 'singh', 'kandari']\n"
     ]
    }
   ],
   "source": [
    "#1.2\n",
    "def filter_long_words(n, str):  \n",
    "    word_len = []  \n",
    "    txt = str.split(\" \")  \n",
    "    for x in txt:  \n",
    "        if len(x) > n:  \n",
    "            word_len.append(x)  \n",
    "    return word_len   \n",
    "t = int(input())\n",
    "list_of_words = str(input())\n",
    "print(filter_long_words(t, list_of_words))"
   ]
  },
  {
   "cell_type": "code",
   "execution_count": 4,
   "metadata": {},
   "outputs": [
    {
     "name": "stdout",
     "output_type": "stream",
     "text": [
      "Enter the Words: jupiter,saturn,uranus\n",
      "Length of Words are: [7, 6, 6]\n"
     ]
    }
   ],
   "source": [
    "#2.1\n",
    "def map_Words_to_Length(List):\n",
    "    return list(map(len, List))\n",
    "\n",
    "word_List=list(input(\"Enter the Words: \").split(\",\"))\n",
    "List = [x.strip() for x in word_List]\n",
    "\n",
    "Words_lengths = map_Words_to_Length(List)\n",
    "\n",
    "print(\"Length of Words are:\",Words_lengths )"
   ]
  },
  {
   "cell_type": "code",
   "execution_count": 6,
   "metadata": {},
   "outputs": [
    {
     "name": "stdout",
     "output_type": "stream",
     "text": [
      "Enter your character: p\n",
      "False\n"
     ]
    }
   ],
   "source": [
    "#2.2\n",
    "def check_vowel(char):\n",
    "    vowels = 'aeiou'\n",
    "    return char in vowels\n",
    "user_input = str(input('Enter your character: '))\n",
    "print(check_vowel(user_input))\n"
   ]
  },
  {
   "cell_type": "code",
   "execution_count": null,
   "metadata": {},
   "outputs": [],
   "source": []
  }
 ],
 "metadata": {
  "kernelspec": {
   "display_name": "Python 3",
   "language": "python",
   "name": "python3"
  },
  "language_info": {
   "codemirror_mode": {
    "name": "ipython",
    "version": 3
   },
   "file_extension": ".py",
   "mimetype": "text/x-python",
   "name": "python",
   "nbconvert_exporter": "python",
   "pygments_lexer": "ipython3",
   "version": "3.7.4"
  }
 },
 "nbformat": 4,
 "nbformat_minor": 2
}
